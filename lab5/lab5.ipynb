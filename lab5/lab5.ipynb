{
 "cells": [
  {
   "cell_type": "markdown",
   "metadata": {},
   "source": [
    "# Main: Deutsch's Algorithm"
   ]
  },
  {
   "cell_type": "markdown",
   "metadata": {},
   "source": [
    "As we saw, Deutsch's algorithm was one of the first quantum algorithms that demonstrates some advantage over the classical alternative. The algorithm can be specified completely using the following quantum circuit (see circuit.jpg)."
   ]
  },
  {
   "cell_type": "markdown",
   "metadata": {},
   "source": [
    "We'll start with the boilerplate imports and definitions of out bras and kets in the computational basis."
   ]
  },
  {
   "cell_type": "code",
   "execution_count": 4,
   "metadata": {},
   "outputs": [],
   "source": [
    "from qutip import *\n",
    "from math import sqrt\n",
    "\n",
    "\n",
    "ket0 = basis(2,0)\n",
    "ket1 = basis(2,1)\n",
    "\n",
    "bra0 = ket0.dag()\n",
    "bra1 = ket1.dag()"
   ]
  },
  {
   "cell_type": "markdown",
   "metadata": {},
   "source": [
    "### Task 1: Define the Hadamard gate\n",
    "\n",
    "The Hadamard gate is defined as \n",
    "\n",
    "$$H = \\frac{1}{\\sqrt{2}}\\begin{pmatrix}\n",
    "1 & 1\\\\\n",
    "1 & -1\n",
    "\\end{pmatrix}$$\n",
    "\n",
    "We can think of a matrix as a list of rows, which we need to wrap in a *Qobj(-matrix-)* call to convert it into a QuTiP-compatible object."
   ]
  },
  {
   "cell_type": "code",
   "execution_count": 5,
   "metadata": {},
   "outputs": [],
   "source": [
    "# Your code here"
   ]
  },
  {
   "cell_type": "markdown",
   "metadata": {},
   "source": [
    "### Task 2: Balanced or constant?\n",
    "\n",
    "Write functions for us to probe using the Deutsch algorithm. Fill in a constant and balanced function below; remember that these only take 0 or 1 as inputs, so x is either 0 or 1."
   ]
  },
  {
   "cell_type": "code",
   "execution_count": 11,
   "metadata": {},
   "outputs": [],
   "source": [
    "def constant_fn(x):\n",
    "  # TODO: return a constant value, either 0 or 1 (regardless of input x)\n",
    "  # Write your code here:\n",
    "  \n",
    "  pass\n",
    "\n",
    "def balanced_fn(x):\n",
    "  # TODO: return a value that is 0 for some x, and 1 for other values of x\n",
    "  # Write your code here:\n",
    "   \n",
    "  pass"
   ]
  },
  {
   "cell_type": "markdown",
   "metadata": {},
   "source": [
    "### Task 3: Test the Oracle"
   ]
  },
  {
   "cell_type": "markdown",
   "metadata": {},
   "source": [
    "The Oracle is a \"black box\" function that takes in a function and quantum state, and its action on the state will somehow tell us whether the function is balanced or constant. I've provided the code below, but check that it works as expected by calling the oracle using your constant function."
   ]
  },
  {
   "cell_type": "code",
   "execution_count": 20,
   "metadata": {},
   "outputs": [],
   "source": [
    "def oracle(f, state):\n",
    "\n",
    "  proj0 = ket0*bra0\n",
    "  proj1 = ket1*bra1\n",
    "\n",
    "  alpha_ket0 = proj0 * state\n",
    "  beta_ket1 = proj1 * state\n",
    "\n",
    "  return (-1)**f(0)*alpha_ket0 + (-1)**f(1)*beta_ket1"
   ]
  },
  {
   "cell_type": "markdown",
   "metadata": {},
   "source": [
    "If you use the $|0\\rangle$ state (ket0), and your constant function always returns 0, you should get\n",
    "$$\\begin{pmatrix}\n",
    "1\\\\\n",
    "0\n",
    "\\end{pmatrix}$$\n",
    "\n",
    "and if your constant function always returns 1, you should get\n",
    "\n",
    "$$\\begin{pmatrix}\n",
    "-1\\\\\n",
    "0\n",
    "\\end{pmatrix}$$"
   ]
  },
  {
   "cell_type": "code",
   "execution_count": 21,
   "metadata": {},
   "outputs": [],
   "source": [
    "# Your code here"
   ]
  },
  {
   "cell_type": "markdown",
   "metadata": {},
   "source": [
    "### Task 4: Assemble the circuit/algorithm"
   ]
  },
  {
   "cell_type": "markdown",
   "metadata": {},
   "source": [
    "Assemble the circuit based on the image above and act on the initial state with it. Remember that the oracle is a function that returns a quantum object. Set the final state psi_f equal to the resulting state."
   ]
  },
  {
   "cell_type": "code",
   "execution_count": 22,
   "metadata": {},
   "outputs": [],
   "source": [
    "# Your code here"
   ]
  },
  {
   "cell_type": "markdown",
   "metadata": {},
   "source": [
    "### Task 5: Interpret the results"
   ]
  },
  {
   "cell_type": "markdown",
   "metadata": {},
   "source": [
    "Discuss with a partner:\n",
    "- What does it mean for P0 to be (basically) 0... what does it say about the function you gave to the oracle?\n",
    "- What does it mean for P0 to be (basically) 1... what does it say about the function you gave to the oracle?\n",
    "- How might you be able to expand this algorithm to work with *qudits* instead of qubits? (FYI, this is called the Deutsch-Jozsa algorithm)"
   ]
  }
 ],
 "metadata": {
  "kernelspec": {
   "display_name": "base",
   "language": "python",
   "name": "python3"
  },
  "language_info": {
   "codemirror_mode": {
    "name": "ipython",
    "version": 3
   },
   "file_extension": ".py",
   "mimetype": "text/x-python",
   "name": "python",
   "nbconvert_exporter": "python",
   "pygments_lexer": "ipython3",
   "version": "3.11.0"
  }
 },
 "nbformat": 4,
 "nbformat_minor": 2
}
