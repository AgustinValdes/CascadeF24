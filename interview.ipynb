{
 "cells": [
  {
   "cell_type": "code",
   "execution_count": 25,
   "metadata": {},
   "outputs": [
    {
     "name": "stdout",
     "output_type": "stream",
     "text": [
      "4016 5984\n"
     ]
    }
   ],
   "source": [
    "from qutip import *\n",
    "from math import sqrt\n",
    "\n",
    "from random import choices\n",
    "\n",
    "ket0 = basis(2,0)\n",
    "ket1 = basis(2,1)\n",
    "\n",
    "\n",
    "P0 = 0.4 \n",
    "P1 = 0.6\n",
    "\n",
    "psi = sqrt(P0)*ket0 + sqrt(P1)*ket1\n",
    "\n",
    "\n",
    "def measure_qubit(meas_basis, qubit):\n",
    "\n",
    "    basis_vect0 = meas_basis[0].dag()\n",
    "    basis_vect1 = meas_basis[1].dag()\n",
    "\n",
    "    p0 = abs(basis_vect0 * qubit)**2\n",
    "    p1 = abs(basis_vect1 * qubit)**2\n",
    "\n",
    "    out = choices([meas_basis[0], meas_basis[1]], [p0, p1])\n",
    "\n",
    "    return out\n",
    "\n",
    "\n",
    "\n",
    "n_0, n_1 = 0,0\n",
    "for _ in range(10000):\n",
    "    out = measure_qubit(meas_basis=[ket0, ket1], qubit = psi)[0]\n",
    "    \n",
    "    if out == ket0:\n",
    "        n_0 +=1\n",
    "    else:\n",
    "        n_1 +=1\n",
    "    \n",
    "\n",
    "print(n_0, n_1)"
   ]
  },
  {
   "cell_type": "code",
   "execution_count": 32,
   "metadata": {},
   "outputs": [
    {
     "name": "stderr",
     "output_type": "stream",
     "text": [
      "/opt/anaconda3/lib/python3.11/site-packages/matplotlib/animation.py:892: UserWarning: Animation was deleted without rendering anything. This is most likely not intended. To prevent deletion, assign the Animation to a variable, e.g. `anim`, that exists until you output the Animation using `plt.show()` or `anim.save()`.\n",
      "  warnings.warn(\n"
     ]
    },
    {
     "data": {
      "image/png": "[encoded data removed]",
      "text/plain": [
       "<Figure size 640x480 with 1 Axes>"
      ]
     },
     "metadata": {},
     "output_type": "display_data"
    }
   ],
   "source": [
    "import matplotlib.pyplot as plt\n",
    "from matplotlib.animation import FuncAnimation\n",
    "from qutip import ket, basis\n",
    "import numpy as np\n",
    "\n",
    "# Assuming measure_qubit is already defined and psi, ket0, ket1 are initialized\n",
    "n_0, n_1 = 1, 1\n",
    "results = [n_0, n_1]\n",
    "\n",
    "fig, ax = plt.subplots()\n",
    "bars = ax.bar(['n_0', 'n_1'], results)\n",
    "\n",
    "def update_histogram(frame):\n",
    "    print('hi')\n",
    "    out = measure_qubit(meas_basis=[ket0, ket1], qubit=psi)[0]\n",
    "    \n",
    "    if out == ket0:\n",
    "        n_0 += 1\n",
    "    else:\n",
    "        n_1 += 1\n",
    "\n",
    "    results[0] = n_0\n",
    "    results[1] = n_1\n",
    "    \n",
    "    for bar, result in zip(bars, results):\n",
    "        bar.set_height(result)\n",
    "    \n",
    "    ax.relim()\n",
    "    ax.autoscale_view()\n",
    "\n",
    "# Create animation\n",
    "ani = FuncAnimation(fig, update_histogram, frames=np.arange(10000), repeat=False, interval=1)\n",
    "\n",
    "plt.show()\n"
   ]
  }
 ],
 "metadata": {
  "kernelspec": {
   "display_name": "base",
   "language": "python",
   "name": "python3"
  },
  "language_info": {
   "codemirror_mode": {
    "name": "ipython",
    "version": 3
   },
   "file_extension": ".py",
   "mimetype": "text/x-python",
   "name": "python",
   "nbconvert_exporter": "python",
   "pygments_lexer": "ipython3",
   "version": "3.11.0"
  }
 },
 "nbformat": 4,
 "nbformat_minor": 2
}
